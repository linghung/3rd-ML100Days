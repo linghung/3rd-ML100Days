{
 "cells": [
  {
   "cell_type": "markdown",
   "metadata": {},
   "source": [
    "## [作業重點]\n",
    "確保你了解隨機森林模型中每個超參數的意義，並觀察調整超參數對結果的影響"
   ]
  },
  {
   "cell_type": "markdown",
   "metadata": {},
   "source": [
    "## 作業\n",
    "\n",
    "1. 試著調整 RandomForestClassifier(...) 中的參數，並觀察是否會改變結果？\n",
    "2. 改用其他資料集 (boston, wine)，並與回歸模型與決策樹的結果進行比較"
   ]
  },
  {
   "cell_type": "code",
   "execution_count": 1,
   "metadata": {},
   "outputs": [],
   "source": [
    "from sklearn import datasets\n",
    "from sklearn.ensemble import RandomForestClassifier, RandomForestRegressor\n",
    "from sklearn.linear_model import LinearRegression, LogisticRegression\n",
    "from sklearn.metrics import accuracy_score, mean_squared_error\n",
    "from sklearn.model_selection import train_test_split\n",
    "from sklearn.tree import DecisionTreeClassifier, DecisionTreeRegressor"
   ]
  },
  {
   "cell_type": "code",
   "execution_count": 2,
   "metadata": {},
   "outputs": [
    {
     "name": "stdout",
     "output_type": "stream",
     "text": [
      "Accuracy:  0.9736842105263158\n",
      "['sepal length (cm)', 'sepal width (cm)', 'petal length (cm)', 'petal width (cm)']\n",
      "Feature importance:  [0.04206558 0.01637896 0.51553962 0.42601583]\n",
      "Accuracy:  0.868421052631579\n",
      "['sepal length (cm)', 'sepal width (cm)', 'petal length (cm)', 'petal width (cm)']\n",
      "Feature importance:  [0.40904156 0.10585252 0.         0.48510592]\n"
     ]
    }
   ],
   "source": [
    "# 原參數：\n",
    "iris = datasets.load_iris()\n",
    "x_train, x_test, y_train, y_test = train_test_split(iris.data, iris.target, test_size=0.25, random_state=4)\n",
    "clf = RandomForestClassifier(n_estimators=20, max_depth=4)\n",
    "clf.fit(x_train, y_train)\n",
    "y_pred = clf.predict(x_test)\n",
    "acc = accuracy_score(y_test, y_pred)\n",
    "print(\"Accuracy: \", acc)\n",
    "print(iris.feature_names)\n",
    "print(\"Feature importance: \", clf.feature_importances_)\n",
    "\n",
    "# 新參數：\n",
    "clf = RandomForestClassifier(n_estimators=1, max_depth=4)\n",
    "clf.fit(x_train, y_train)\n",
    "y_pred = clf.predict(x_test)\n",
    "acc = accuracy_score(y_test, y_pred)\n",
    "print(\"Accuracy: \", acc)\n",
    "print(iris.feature_names)\n",
    "print(\"Feature importance: \", clf.feature_importances_)\n",
    "\n",
    "# 只限定一棵樹的情況下，Accuracy 就下降了"
   ]
  },
  {
   "cell_type": "code",
   "execution_count": 3,
   "metadata": {},
   "outputs": [
    {
     "name": "stdout",
     "output_type": "stream",
     "text": [
      "LinearRegression MSE: 26.95\n",
      "DecisionTreeClassifier MSE: 22.44\n",
      "RandomForestClassifier MSE: 15.88\n"
     ]
    }
   ],
   "source": [
    "# boston\n",
    "boston = datasets.load_boston()\n",
    "x_train, x_test, y_train, y_test = train_test_split(boston.data, boston.target, test_size=0.25, random_state=4)\n",
    "\n",
    "# 迴歸\n",
    "model = LinearRegression()\n",
    "model.fit(x_train, y_train)\n",
    "y_pred = model.predict(x_test)\n",
    "print(\"LinearRegression MSE: %.2f\" % mean_squared_error(y_test, y_pred))\n",
    "\n",
    "# 決策樹\n",
    "model = DecisionTreeRegressor(max_depth=6,min_samples_split=2,min_samples_leaf=5)\n",
    "model.fit(x_train, y_train)\n",
    "y_pred = model.predict(x_test)\n",
    "print(\"DecisionTreeClassifier MSE: %.2f\" % mean_squared_error(y_test, y_pred))\n",
    "\n",
    "# 隨機森林\n",
    "model = RandomForestRegressor(n_estimators=20, max_depth=6,min_samples_split=2,min_samples_leaf=5)\n",
    "model.fit(x_train, y_train)\n",
    "y_pred = model.predict(x_test)\n",
    "print(\"RandomForestClassifier MSE: %.2f\" % mean_squared_error(y_test, y_pred))\n",
    "\n",
    "# 隨機森林果然優秀"
   ]
  },
  {
   "cell_type": "code",
   "execution_count": 4,
   "metadata": {},
   "outputs": [
    {
     "name": "stdout",
     "output_type": "stream",
     "text": [
      "LogisticRegression Accuracy:  0.9333333333333333\n",
      "DecisionTreeClassifier Acuuracy:  0.8666666666666667\n",
      "RandomForestClassifier Accuracy:  0.9777777777777777\n"
     ]
    }
   ],
   "source": [
    "# wine\n",
    "wine = datasets.load_wine()\n",
    "x_train, x_test, y_train, y_test = train_test_split(wine.data, wine.target, test_size=0.25, random_state=4)\n",
    "\n",
    "# 迴歸\n",
    "model = LogisticRegression(solver='liblinear', multi_class='auto')\n",
    "model.fit(x_train, y_train)\n",
    "y_pred = model.predict(x_test)\n",
    "print(\"LogisticRegression Accuracy: \", accuracy_score(y_test, y_pred))\n",
    "\n",
    "# 決策樹\n",
    "model = DecisionTreeClassifier(max_depth=6,min_samples_split=2,min_samples_leaf=5)\n",
    "model.fit(x_train, y_train)\n",
    "y_pred = model.predict(x_test)\n",
    "print(\"DecisionTreeClassifier Acuuracy: \", accuracy_score(y_test, y_pred))\n",
    "\n",
    "# 隨機森林\n",
    "model = RandomForestClassifier(n_estimators=20, max_depth=6,min_samples_split=2,min_samples_leaf=5)\n",
    "model.fit(x_train, y_train)\n",
    "y_pred = model.predict(x_test)\n",
    "print(\"RandomForestClassifier Accuracy: \", accuracy_score(y_test, y_pred))\n",
    "\n",
    "# 隨機森林果然優秀"
   ]
  }
 ],
 "metadata": {
  "kernelspec": {
   "display_name": "Python 3",
   "language": "python",
   "name": "python3"
  },
  "language_info": {
   "codemirror_mode": {
    "name": "ipython",
    "version": 3
   },
   "file_extension": ".py",
   "mimetype": "text/x-python",
   "name": "python",
   "nbconvert_exporter": "python",
   "pygments_lexer": "ipython3",
   "version": "3.7.3"
  }
 },
 "nbformat": 4,
 "nbformat_minor": 2
}
