{
 "cells": [
  {
   "cell_type": "markdown",
   "metadata": {},
   "source": [
    "## Work\n",
    "1. 試比較有 BN 在 Batch_size = 2, 16, 32, 128, 256 下的差異\n",
    "2. 請嘗試將 BN 放在 Activation 之前，並比較訓練結果\n",
    "3. 請於 BN 放在 Input Layer 後，並比較結果"
   ]
  },
  {
   "cell_type": "code",
   "execution_count": 1,
   "metadata": {},
   "outputs": [
    {
     "name": "stderr",
     "output_type": "stream",
     "text": [
      "Using TensorFlow backend.\n"
     ]
    }
   ],
   "source": [
    "import os\n",
    "import keras\n",
    "import itertools\n",
    "# Disable GPU\n",
    "os.environ[\"CUDA_VISIBLE_DEVICES\"] = \"\""
   ]
  },
  {
   "cell_type": "code",
   "execution_count": 2,
   "metadata": {},
   "outputs": [],
   "source": [
    "train, test = keras.datasets.cifar10.load_data()"
   ]
  },
  {
   "cell_type": "code",
   "execution_count": 3,
   "metadata": {},
   "outputs": [],
   "source": [
    "## 資料前處理\n",
    "def preproc_x(x, flatten=True):\n",
    "    x = x / 255.\n",
    "    if flatten:\n",
    "        x = x.reshape((len(x), -1))\n",
    "    return x\n",
    "\n",
    "def preproc_y(y, num_classes=10):\n",
    "    if y.shape[-1] == 1:\n",
    "        y = keras.utils.to_categorical(y, num_classes)\n",
    "    return y    "
   ]
  },
  {
   "cell_type": "code",
   "execution_count": 4,
   "metadata": {},
   "outputs": [],
   "source": [
    "x_train, y_train = train\n",
    "x_test, y_test = test\n",
    "\n",
    "# Preproc the inputs\n",
    "x_train = preproc_x(x_train)\n",
    "x_test = preproc_x(x_test)\n",
    "\n",
    "# Preprc the outputs\n",
    "y_train = preproc_y(y_train)\n",
    "y_test = preproc_y(y_test)"
   ]
  },
  {
   "cell_type": "code",
   "execution_count": 5,
   "metadata": {},
   "outputs": [],
   "source": [
    "from keras.layers import BatchNormalization\n",
    "\n",
    "def build_mlp(input_shape, output_units=10, num_neurons=[512, 256, 128]):\n",
    "    input_layer = keras.layers.Input(input_shape)\n",
    "    \n",
    "    for i, n_units in enumerate(num_neurons):\n",
    "        if i == 0:\n",
    "            x = keras.layers.Dense(units=n_units, \n",
    "                                   activation=\"relu\", \n",
    "                                   name=\"hidden_layer\"+str(i+1))(input_layer)\n",
    "            x = BatchNormalization()(x)\n",
    "        else:\n",
    "            x = keras.layers.Dense(units=n_units, \n",
    "                                   activation=\"relu\", \n",
    "                                   name=\"hidden_layer\"+str(i+1))(x)\n",
    "            x = BatchNormalization()(x)\n",
    "    \n",
    "    out = keras.layers.Dense(units=output_units, activation=\"softmax\", name=\"output\")(x)\n",
    "    \n",
    "    model = keras.models.Model(inputs=[input_layer], outputs=[out])\n",
    "    return model"
   ]
  },
  {
   "cell_type": "code",
   "execution_count": 6,
   "metadata": {},
   "outputs": [],
   "source": [
    "## 超參數設定\n",
    "LEARNING_RATE = 1e-3\n",
    "EPOCHS = 50\n",
    "BATCH_SIZE = [2, 16, 32, 128, 256]\n",
    "MOMENTUM = 0.95"
   ]
  },
  {
   "cell_type": "code",
   "execution_count": null,
   "metadata": {
    "scrolled": true
   },
   "outputs": [
    {
     "name": "stdout",
     "output_type": "stream",
     "text": [
      "Experiment with BATCH_SIZE = 2\n",
      "Model: \"model_1\"\n",
      "_________________________________________________________________\n",
      "Layer (type)                 Output Shape              Param #   \n",
      "=================================================================\n",
      "input_1 (InputLayer)         (None, 3072)              0         \n",
      "_________________________________________________________________\n",
      "hidden_layer1 (Dense)        (None, 512)               1573376   \n",
      "_________________________________________________________________\n",
      "batch_normalization_1 (Batch (None, 512)               2048      \n",
      "_________________________________________________________________\n",
      "hidden_layer2 (Dense)        (None, 256)               131328    \n",
      "_________________________________________________________________\n",
      "batch_normalization_2 (Batch (None, 256)               1024      \n",
      "_________________________________________________________________\n",
      "hidden_layer3 (Dense)        (None, 128)               32896     \n",
      "_________________________________________________________________\n",
      "batch_normalization_3 (Batch (None, 128)               512       \n",
      "_________________________________________________________________\n",
      "output (Dense)               (None, 10)                1290      \n",
      "=================================================================\n",
      "Total params: 1,742,474\n",
      "Trainable params: 1,740,682\n",
      "Non-trainable params: 1,792\n",
      "_________________________________________________________________\n",
      "Train on 50000 samples, validate on 10000 samples\n",
      "Epoch 1/50\n",
      "50000/50000 [==============================] - 1323s 26ms/step - loss: 2.3026 - accuracy: 0.1507 - val_loss: 2.1887 - val_accuracy: 0.1918\n",
      "Epoch 2/50\n",
      "50000/50000 [==============================] - 1385s 28ms/step - loss: 2.2358 - accuracy: 0.1653 - val_loss: 2.2622 - val_accuracy: 0.1687\n",
      "Epoch 3/50\n",
      "50000/50000 [==============================] - 1378s 28ms/step - loss: 2.2338 - accuracy: 0.1670 - val_loss: 2.5063 - val_accuracy: 0.1739\n",
      "Epoch 4/50\n",
      "50000/50000 [==============================] - 1144s 23ms/step - loss: 2.2252 - accuracy: 0.1757 - val_loss: 2.5360 - val_accuracy: 0.1669\n",
      "Epoch 5/50\n",
      "50000/50000 [==============================] - 1183s 24ms/step - loss: 2.2357 - accuracy: 0.1654 - val_loss: 2.3323 - val_accuracy: 0.1947\n",
      "Epoch 6/50\n",
      "50000/50000 [==============================] - 1189s 24ms/step - loss: 2.2383 - accuracy: 0.1651 - val_loss: 2.2323 - val_accuracy: 0.1657\n",
      "Epoch 7/50\n",
      "50000/50000 [==============================] - 1182s 24ms/step - loss: 2.2361 - accuracy: 0.1654 - val_loss: 2.2451 - val_accuracy: 0.1962\n",
      "Epoch 8/50\n",
      "50000/50000 [==============================] - 1304s 26ms/step - loss: 2.2283 - accuracy: 0.1688 - val_loss: 2.4143 - val_accuracy: 0.1647\n",
      "Epoch 9/50\n",
      "50000/50000 [==============================] - 1181s 24ms/step - loss: 2.2208 - accuracy: 0.1718 - val_loss: 22.9187 - val_accuracy: 0.1509\n",
      "Epoch 10/50\n",
      "50000/50000 [==============================] - 1192s 24ms/step - loss: 2.2260 - accuracy: 0.1681 - val_loss: 9.4786 - val_accuracy: 0.1621\n",
      "Epoch 11/50\n",
      "50000/50000 [==============================] - 1207s 24ms/step - loss: 2.2248 - accuracy: 0.1724 - val_loss: 97.4026 - val_accuracy: 0.1587\n",
      "Epoch 12/50\n",
      "50000/50000 [==============================] - 1180s 24ms/step - loss: 2.2373 - accuracy: 0.1662 - val_loss: 13.3804 - val_accuracy: 0.1662\n",
      "Epoch 13/50\n",
      "50000/50000 [==============================] - 1056s 21ms/step - loss: 2.2351 - accuracy: 0.1632 - val_loss: 52.4461 - val_accuracy: 0.1548\n",
      "Epoch 14/50\n",
      "50000/50000 [==============================] - 1054s 21ms/step - loss: 2.2306 - accuracy: 0.1669 - val_loss: 6.2295 - val_accuracy: 0.1419\n",
      "Epoch 15/50\n",
      "50000/50000 [==============================] - 1068s 21ms/step - loss: 2.2425 - accuracy: 0.1641 - val_loss: 6.3143 - val_accuracy: 0.1844\n",
      "Epoch 16/50\n",
      "50000/50000 [==============================] - 1060s 21ms/step - loss: 2.2522 - accuracy: 0.1522 - val_loss: 4.5782 - val_accuracy: 0.1473\n",
      "Epoch 17/50\n",
      "50000/50000 [==============================] - 1060s 21ms/step - loss: 2.2521 - accuracy: 0.1500 - val_loss: 35.9729 - val_accuracy: 0.1552\n",
      "Epoch 18/50\n",
      "50000/50000 [==============================] - 1064s 21ms/step - loss: 2.2493 - accuracy: 0.1552 - val_loss: 45.6438 - val_accuracy: 0.1721\n",
      "Epoch 19/50\n",
      "50000/50000 [==============================] - 1059s 21ms/step - loss: 2.2477 - accuracy: 0.1567 - val_loss: 77.4420 - val_accuracy: 0.1407\n",
      "Epoch 20/50\n",
      "50000/50000 [==============================] - 1059s 21ms/step - loss: 2.2439 - accuracy: 0.1579 - val_loss: 565.1490 - val_accuracy: 0.1553\n",
      "Epoch 21/50\n",
      "50000/50000 [==============================] - 1054s 21ms/step - loss: 2.2508 - accuracy: 0.1533 - val_loss: 970.8018 - val_accuracy: 0.1303\n",
      "Epoch 22/50\n",
      "50000/50000 [==============================] - 1057s 21ms/step - loss: 2.2514 - accuracy: 0.1552 - val_loss: 367.1688 - val_accuracy: 0.1780\n",
      "Epoch 23/50\n",
      "50000/50000 [==============================] - 1059s 21ms/step - loss: 2.2595 - accuracy: 0.1494 - val_loss: 1242.1035 - val_accuracy: 0.1682\n",
      "Epoch 24/50\n",
      "50000/50000 [==============================] - 1057s 21ms/step - loss: 2.2569 - accuracy: 0.1540 - val_loss: 3833.4897 - val_accuracy: 0.1492\n",
      "Epoch 25/50\n",
      "50000/50000 [==============================] - 1061s 21ms/step - loss: 2.2560 - accuracy: 0.1554 - val_loss: 3625.3794 - val_accuracy: 0.1633\n",
      "Epoch 26/50\n",
      "50000/50000 [==============================] - 1058s 21ms/step - loss: 2.2573 - accuracy: 0.1541 - val_loss: 3312.0162 - val_accuracy: 0.1645\n",
      "Epoch 27/50\n",
      "50000/50000 [==============================] - 1052s 21ms/step - loss: 2.2489 - accuracy: 0.1604 - val_loss: 899.7836 - val_accuracy: 0.1931\n",
      "Epoch 28/50\n",
      "50000/50000 [==============================] - 1184s 24ms/step - loss: 2.2495 - accuracy: 0.1647 - val_loss: 448.8237 - val_accuracy: 0.1633\n",
      "Epoch 29/50\n",
      " 6270/50000 [==>...........................] - ETA: 15:49 - loss: 2.2553 - accuracy: 0.1628"
     ]
    }
   ],
   "source": [
    "results = {}\n",
    "\n",
    "for bs in BATCH_SIZE:\n",
    "    keras.backend.clear_session() # 把舊的 Graph 清掉\n",
    "    print(\"Experiment with BATCH_SIZE = %d\" % (bs))\n",
    "    model = build_mlp(input_shape=x_train.shape[1:])\n",
    "    model.summary()\n",
    "    optimizer = keras.optimizers.SGD(lr=LEARNING_RATE, nesterov=True, momentum=MOMENTUM)\n",
    "    model.compile(loss=\"categorical_crossentropy\", metrics=[\"accuracy\"], optimizer=optimizer)\n",
    "\n",
    "    model.fit(x_train, y_train, \n",
    "              epochs=EPOCHS, \n",
    "              batch_size=bs, \n",
    "              validation_data=(x_test, y_test), \n",
    "              shuffle=True)\n",
    "\n",
    "    # Collect results\n",
    "    train_loss = model.history.history[\"loss\"]\n",
    "    valid_loss = model.history.history[\"val_loss\"]\n",
    "    train_acc = model.history.history[\"accuracy\"]\n",
    "    valid_acc = model.history.history[\"val_accuracy\"]\n",
    "\n",
    "    exp_name_tag = \"bs-%d\" % bs\n",
    "    results[exp_name_tag] = {'train-loss': train_loss,\n",
    "                             'valid-loss': valid_loss,\n",
    "                             'train-acc': train_acc,\n",
    "                             'valid-acc': valid_acc}"
   ]
  },
  {
   "cell_type": "code",
   "execution_count": null,
   "metadata": {},
   "outputs": [],
   "source": [
    "import matplotlib.pyplot as plt\n",
    "%matplotlib inline\n",
    "color_bar = [\"r\", \"g\", \"b\", \"y\", \"m\", \"k\"]\n",
    "\n",
    "plt.figure(figsize=(8,6))\n",
    "for i, cond in enumerate(results.keys()):\n",
    "    plt.plot(range(len(results[cond]['train-loss'])),results[cond]['train-loss'], '-', label=cond, color=color_bar[i])\n",
    "    plt.plot(range(len(results[cond]['valid-loss'])),results[cond]['valid-loss'], '--', label=cond, color=color_bar[i])\n",
    "plt.title(\"Loss\")\n",
    "plt.ylim([0, 5])\n",
    "plt.legend()\n",
    "plt.show()\n",
    "\n",
    "plt.figure(figsize=(8,6))\n",
    "for i, cond in enumerate(results.keys()):\n",
    "    plt.plot(range(len(results[cond]['train-acc'])),results[cond]['train-acc'], '-', label=cond, color=color_bar[i])\n",
    "    plt.plot(range(len(results[cond]['valid-acc'])),results[cond]['valid-acc'], '--', label=cond, color=color_bar[i])\n",
    "plt.title(\"Accuracy\")\n",
    "plt.legend()\n",
    "plt.show()"
   ]
  }
 ],
 "metadata": {
  "kernelspec": {
   "display_name": "Python 3",
   "language": "python",
   "name": "python3"
  },
  "language_info": {
   "codemirror_mode": {
    "name": "ipython",
    "version": 3
   },
   "file_extension": ".py",
   "mimetype": "text/x-python",
   "name": "python",
   "nbconvert_exporter": "python",
   "pygments_lexer": "ipython3",
   "version": "3.7.3"
  }
 },
 "nbformat": 4,
 "nbformat_minor": 2
}
