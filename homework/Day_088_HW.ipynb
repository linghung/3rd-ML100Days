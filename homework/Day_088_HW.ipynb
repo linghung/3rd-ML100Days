{
 "cells": [
  {
   "cell_type": "markdown",
   "metadata": {},
   "source": [
    "## Work\n",
    "1. 請嘗試寫一個 callback 用來記錄各類別在訓練過程中，對驗證集的 True Positive 與 True Negative"
   ]
  },
  {
   "cell_type": "code",
   "execution_count": 1,
   "metadata": {},
   "outputs": [
    {
     "name": "stderr",
     "output_type": "stream",
     "text": [
      "Using TensorFlow backend.\n"
     ]
    }
   ],
   "source": [
    "import os\n",
    "import keras\n",
    "import sklearn\n",
    "from sklearn.metrics import confusion_matrix\n",
    "import matplotlib.pyplot as plt\n",
    "%matplotlib inline\n",
    "\n",
    "# Disable GPU\n",
    "os.environ[\"CUDA_VISIBLE_DEVICES\"] = \"\""
   ]
  },
  {
   "cell_type": "code",
   "execution_count": 2,
   "metadata": {},
   "outputs": [],
   "source": [
    "train, test = keras.datasets.cifar10.load_data()"
   ]
  },
  {
   "cell_type": "code",
   "execution_count": 3,
   "metadata": {},
   "outputs": [],
   "source": [
    "## 資料前處理\n",
    "def preproc_x(x, flatten=True):\n",
    "    x = x / 255.\n",
    "    if flatten:\n",
    "        x = x.reshape((len(x), -1))\n",
    "    return x\n",
    "\n",
    "def preproc_y(y, num_classes=10):\n",
    "    if y.shape[-1] == 1:\n",
    "        y = keras.utils.to_categorical(y, num_classes)\n",
    "    return y    "
   ]
  },
  {
   "cell_type": "code",
   "execution_count": 4,
   "metadata": {},
   "outputs": [],
   "source": [
    "x_train, y_train = train\n",
    "x_test, y_test = test\n",
    "\n",
    "# Preproc the inputs\n",
    "x_train = preproc_x(x_train)\n",
    "x_test = preproc_x(x_test)\n",
    "\n",
    "# Preprc the outputs\n",
    "y_train = preproc_y(y_train)\n",
    "y_test = preproc_y(y_test)"
   ]
  },
  {
   "cell_type": "code",
   "execution_count": 5,
   "metadata": {},
   "outputs": [],
   "source": [
    "def build_mlp(input_shape, output_units=10, num_neurons=[512, 256, 128]):\n",
    "    input_layer = keras.layers.Input(input_shape)\n",
    "    \n",
    "    for i, n_units in enumerate(num_neurons):\n",
    "        if i == 0:\n",
    "            x = keras.layers.Dense(units=n_units, \n",
    "                                   activation=\"relu\", \n",
    "                                   name=\"hidden_layer\"+str(i+1))(input_layer)\n",
    "            x = keras.layers.BatchNormalization()(x)\n",
    "        else:\n",
    "            x = keras.layers.Dense(units=n_units, \n",
    "                                   activation=\"relu\", \n",
    "                                   name=\"hidden_layer\"+str(i+1))(x)\n",
    "            x = keras.layers.BatchNormalization()(x)\n",
    "    \n",
    "    out = keras.layers.Dense(units=output_units, activation=\"softmax\", name=\"output\")(x)\n",
    "    \n",
    "    model = keras.models.Model(inputs=[input_layer], outputs=[out])\n",
    "    return model"
   ]
  },
  {
   "cell_type": "code",
   "execution_count": 6,
   "metadata": {},
   "outputs": [],
   "source": [
    "## 超參數設定\n",
    "LEARNING_RATE = 1e-3\n",
    "EPOCHS = 25\n",
    "BATCH_SIZE = 1024\n",
    "MOMENTUM = 0.95"
   ]
  },
  {
   "cell_type": "code",
   "execution_count": 7,
   "metadata": {},
   "outputs": [],
   "source": [
    "# 載入 Callbacks\n",
    "from keras.callbacks import Callback\n",
    "\n",
    "# Record_fp_tp\n",
    "class Record_tp_tn(Callback):\n",
    "    def on_train_begin(self, epoch, logs = {}):\n",
    "        logs = logs or {}\n",
    "        record_items = [\"val_auc\", \"val_f1sc\", \"val_fp\", \"val_fn\", \"val_tp\", \"val_tn\"]\n",
    "        for i in record_items:\n",
    "            if i not in self.params['metrics']:\n",
    "                self.params['metrics'].append(i)\n",
    "    def on_epoch_end(self, epoch, logs = {}, thres=0.5):\n",
    "        logs = logs or {}\n",
    "        y_true = self.validation_data[1]#.argmax(axis = 1)\n",
    "        y_pred = self.model.predict(self.validation_data[0])\n",
    "        #y_pred = (y_pred[:, 1] >= thres) * 1\n",
    "        \n",
    "        myround = lambda x: 1 if x >= 0.5 else 0\n",
    "        y_true = [myround(x) for x in y_true.ravel()]\n",
    "        y_pred = [myround(x) for x in y_pred.ravel()]\n",
    "        \n",
    "        tn, fp, fn, tp = confusion_matrix(y_true = y_true, y_pred = y_pred).ravel()\n",
    "        logs[\"val_tp\"] = tp\n",
    "        logs[\"val_tn\"] = tn\n",
    "        \n",
    "rec_tptn = Record_tp_tn()"
   ]
  },
  {
   "cell_type": "code",
   "execution_count": 8,
   "metadata": {
    "scrolled": true
   },
   "outputs": [
    {
     "name": "stdout",
     "output_type": "stream",
     "text": [
      "Model: \"model_1\"\n",
      "_________________________________________________________________\n",
      "Layer (type)                 Output Shape              Param #   \n",
      "=================================================================\n",
      "input_1 (InputLayer)         (None, 3072)              0         \n",
      "_________________________________________________________________\n",
      "hidden_layer1 (Dense)        (None, 512)               1573376   \n",
      "_________________________________________________________________\n",
      "batch_normalization_1 (Batch (None, 512)               2048      \n",
      "_________________________________________________________________\n",
      "hidden_layer2 (Dense)        (None, 256)               131328    \n",
      "_________________________________________________________________\n",
      "batch_normalization_2 (Batch (None, 256)               1024      \n",
      "_________________________________________________________________\n",
      "hidden_layer3 (Dense)        (None, 128)               32896     \n",
      "_________________________________________________________________\n",
      "batch_normalization_3 (Batch (None, 128)               512       \n",
      "_________________________________________________________________\n",
      "output (Dense)               (None, 10)                1290      \n",
      "=================================================================\n",
      "Total params: 1,742,474\n",
      "Trainable params: 1,740,682\n",
      "Non-trainable params: 1,792\n",
      "_________________________________________________________________\n",
      "Train on 50000 samples, validate on 10000 samples\n",
      "Epoch 1/25\n",
      "50000/50000 [==============================] - 21s 416us/step - loss: 2.1890 - accuracy: 0.2757 - val_loss: 2.1074 - val_accuracy: 0.2389\n",
      "Epoch 2/25\n",
      "50000/50000 [==============================] - 16s 324us/step - loss: 1.7352 - accuracy: 0.3941 - val_loss: 1.9561 - val_accuracy: 0.3102\n",
      "Epoch 3/25\n",
      "50000/50000 [==============================] - 17s 332us/step - loss: 1.6139 - accuracy: 0.4331 - val_loss: 1.8209 - val_accuracy: 0.3716\n",
      "Epoch 4/25\n",
      "50000/50000 [==============================] - 16s 329us/step - loss: 1.5398 - accuracy: 0.4606 - val_loss: 1.7080 - val_accuracy: 0.4111\n",
      "Epoch 5/25\n",
      "50000/50000 [==============================] - 17s 332us/step - loss: 1.4852 - accuracy: 0.4808 - val_loss: 1.6197 - val_accuracy: 0.4365\n",
      "Epoch 6/25\n",
      "50000/50000 [==============================] - 16s 326us/step - loss: 1.4396 - accuracy: 0.4957 - val_loss: 1.5782 - val_accuracy: 0.4435\n",
      "Epoch 7/25\n",
      "50000/50000 [==============================] - 16s 327us/step - loss: 1.3994 - accuracy: 0.5111 - val_loss: 1.5370 - val_accuracy: 0.4604\n",
      "Epoch 8/25\n",
      "50000/50000 [==============================] - 16s 329us/step - loss: 1.3645 - accuracy: 0.5219 - val_loss: 1.5201 - val_accuracy: 0.4619\n",
      "Epoch 9/25\n",
      "50000/50000 [==============================] - 16s 328us/step - loss: 1.3312 - accuracy: 0.5348 - val_loss: 1.4961 - val_accuracy: 0.4736\n",
      "Epoch 10/25\n",
      "50000/50000 [==============================] - 17s 333us/step - loss: 1.3031 - accuracy: 0.5452 - val_loss: 1.4840 - val_accuracy: 0.4782\n",
      "Epoch 11/25\n",
      "50000/50000 [==============================] - 16s 327us/step - loss: 1.2744 - accuracy: 0.5555 - val_loss: 1.4891 - val_accuracy: 0.4747\n",
      "Epoch 12/25\n",
      "50000/50000 [==============================] - 16s 328us/step - loss: 1.2481 - accuracy: 0.5671 - val_loss: 1.4719 - val_accuracy: 0.4797\n",
      "Epoch 13/25\n",
      "50000/50000 [==============================] - 16s 325us/step - loss: 1.2212 - accuracy: 0.5757 - val_loss: 1.4667 - val_accuracy: 0.4809\n",
      "Epoch 14/25\n",
      "50000/50000 [==============================] - 17s 347us/step - loss: 1.1974 - accuracy: 0.5851 - val_loss: 1.4684 - val_accuracy: 0.4848\n",
      "Epoch 15/25\n",
      "50000/50000 [==============================] - 16s 330us/step - loss: 1.1725 - accuracy: 0.5942 - val_loss: 1.4652 - val_accuracy: 0.4789\n",
      "Epoch 16/25\n",
      "50000/50000 [==============================] - 17s 333us/step - loss: 1.1476 - accuracy: 0.6063 - val_loss: 1.4555 - val_accuracy: 0.4867\n",
      "Epoch 17/25\n",
      "50000/50000 [==============================] - 16s 329us/step - loss: 1.1265 - accuracy: 0.6114 - val_loss: 1.4614 - val_accuracy: 0.4848\n",
      "Epoch 18/25\n",
      "50000/50000 [==============================] - 17s 332us/step - loss: 1.1032 - accuracy: 0.6195 - val_loss: 1.4695 - val_accuracy: 0.4820\n",
      "Epoch 19/25\n",
      "50000/50000 [==============================] - 16s 330us/step - loss: 1.0806 - accuracy: 0.6278 - val_loss: 1.4628 - val_accuracy: 0.4900\n",
      "Epoch 20/25\n",
      "50000/50000 [==============================] - 17s 330us/step - loss: 1.0586 - accuracy: 0.6383 - val_loss: 1.4521 - val_accuracy: 0.4967\n",
      "Epoch 21/25\n",
      "50000/50000 [==============================] - 16s 327us/step - loss: 1.0362 - accuracy: 0.6472 - val_loss: 1.4491 - val_accuracy: 0.4919\n",
      "Epoch 22/25\n",
      "50000/50000 [==============================] - 16s 330us/step - loss: 1.0137 - accuracy: 0.6544 - val_loss: 1.4578 - val_accuracy: 0.4920\n",
      "Epoch 23/25\n",
      "50000/50000 [==============================] - 17s 330us/step - loss: 0.9950 - accuracy: 0.6621 - val_loss: 1.4547 - val_accuracy: 0.4954\n",
      "Epoch 24/25\n",
      "50000/50000 [==============================] - 17s 331us/step - loss: 0.9718 - accuracy: 0.6725 - val_loss: 1.4640 - val_accuracy: 0.4947\n",
      "Epoch 25/25\n",
      "50000/50000 [==============================] - 17s 331us/step - loss: 0.9501 - accuracy: 0.6800 - val_loss: 1.4692 - val_accuracy: 0.4955\n"
     ]
    }
   ],
   "source": [
    "model = build_mlp(input_shape=x_train.shape[1:])\n",
    "model.summary()\n",
    "optimizer = keras.optimizers.SGD(lr=LEARNING_RATE, nesterov=True, momentum=MOMENTUM)\n",
    "model.compile(loss=\"categorical_crossentropy\", metrics=[\"accuracy\"], optimizer=optimizer)\n",
    "\n",
    "# 將 callbacks 放入模型訓練流程中\n",
    "model.fit(x_train, y_train, \n",
    "          epochs=EPOCHS, \n",
    "          batch_size=BATCH_SIZE, \n",
    "          validation_data=(x_test, y_test), \n",
    "          shuffle=True,\n",
    "          callbacks=[rec_tptn])\n",
    "\n",
    "# Collect results\n",
    "train_loss = model.history.history[\"loss\"]\n",
    "valid_loss = model.history.history[\"val_loss\"]\n",
    "train_acc = model.history.history[\"accuracy\"]\n",
    "valid_acc = model.history.history[\"val_accuracy\"]\n",
    "\n",
    "# 將 tp/tn 從訓練完的模型中取出\n",
    "valid_tp = model.history.history[\"val_tp\"]\n",
    "valid_tn = model.history.history[\"val_tn\"]"
   ]
  },
  {
   "cell_type": "code",
   "execution_count": 9,
   "metadata": {},
   "outputs": [
    {
     "data": {
      "image/png": "[encoded data removed]",
      "text/plain": [
       "<Figure size 432x288 with 1 Axes>"
      ]
     },
     "metadata": {
      "needs_background": "light"
     },
     "output_type": "display_data"
    },
    {
     "data": {
      "image/png": "[encoded data removed]",
      "text/plain": [
       "<Figure size 432x288 with 1 Axes>"
      ]
     },
     "metadata": {
      "needs_background": "light"
     },
     "output_type": "display_data"
    },
    {
     "data": {
      "image/png": "[encoded data removed]",
      "text/plain": [
       "<Figure size 432x288 with 1 Axes>"
      ]
     },
     "metadata": {
      "needs_background": "light"
     },
     "output_type": "display_data"
    }
   ],
   "source": [
    "plt.plot(range(len(train_loss)), train_loss, label=\"train loss\")\n",
    "plt.plot(range(len(valid_loss)), valid_loss, label=\"valid loss\")\n",
    "plt.legend()\n",
    "plt.title(\"Loss\")\n",
    "plt.show()\n",
    "\n",
    "plt.plot(range(len(train_acc)), train_acc, label=\"train accuracy\")\n",
    "plt.plot(range(len(valid_acc)), valid_acc, label=\"valid accuracy\")\n",
    "plt.legend()\n",
    "plt.title(\"Accuracy\")\n",
    "plt.show()\n",
    "\n",
    "plt.plot(range(len(valid_tp)), valid_tp, label=\"valid tp\", color=\"navy\")\n",
    "plt.plot(range(len(valid_tn)), valid_tn, label=\"valid tn\", color=\"red\")\n",
    "plt.legend()\n",
    "plt.title(\"True positives and True Negatives\")\n",
    "plt.show()\n"
   ]
  }
 ],
 "metadata": {
  "kernelspec": {
   "display_name": "Python 3",
   "language": "python",
   "name": "python3"
  },
  "language_info": {
   "codemirror_mode": {
    "name": "ipython",
    "version": 3
   },
   "file_extension": ".py",
   "mimetype": "text/x-python",
   "name": "python",
   "nbconvert_exporter": "python",
   "pygments_lexer": "ipython3",
   "version": "3.7.3"
  }
 },
 "nbformat": 4,
 "nbformat_minor": 2
}
